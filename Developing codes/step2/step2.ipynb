{
 "cells": [
  {
   "cell_type": "code",
   "execution_count": 5,
   "id": "fd76b0aa",
   "metadata": {},
   "outputs": [],
   "source": [
    "import numpy as np\n",
    "import pandas as pd\n",
    "from catsim.simulation import Simulator\n",
    "from catsim.initialization import RandomInitializer\n",
    "from catsim.selection import MaxInfoSelector\n",
    "from catsim.estimation import NumericalSearchEstimator\n",
    "from catsim.stopping import MaxItemStopper\n",
    "from catsim.initialization import FixedPointInitializer\n"
   ]
  },
  {
   "cell_type": "code",
   "execution_count": 8,
   "id": "ab7149a2",
   "metadata": {},
   "outputs": [
    {
     "data": {
      "text/html": [
       "<div>\n",
       "<style scoped>\n",
       "    .dataframe tbody tr th:only-of-type {\n",
       "        vertical-align: middle;\n",
       "    }\n",
       "\n",
       "    .dataframe tbody tr th {\n",
       "        vertical-align: top;\n",
       "    }\n",
       "\n",
       "    .dataframe thead th {\n",
       "        text-align: right;\n",
       "    }\n",
       "</style>\n",
       "<table border=\"1\" class=\"dataframe\">\n",
       "  <thead>\n",
       "    <tr style=\"text-align: right;\">\n",
       "      <th></th>\n",
       "      <th>qid</th>\n",
       "      <th>difficulty</th>\n",
       "      <th>problem</th>\n",
       "      <th>answer_option_list</th>\n",
       "      <th>answer_value</th>\n",
       "      <th>tag</th>\n",
       "    </tr>\n",
       "  </thead>\n",
       "  <tbody>\n",
       "    <tr>\n",
       "      <th>0</th>\n",
       "      <td>3</td>\n",
       "      <td>4</td>\n",
       "      <td>Compute the average angular acceleration and t...</td>\n",
       "      <td>[[{'aoVal': 'A', 'content': 'a = 0.1 rad/s\\\\te...</td>\n",
       "      <td>C</td>\n",
       "      <td>Number Theory Modules</td>\n",
       "    </tr>\n",
       "  </tbody>\n",
       "</table>\n",
       "</div>"
      ],
      "text/plain": [
       "   qid  difficulty                                            problem  \\\n",
       "0    3           4  Compute the average angular acceleration and t...   \n",
       "\n",
       "                                  answer_option_list answer_value  \\\n",
       "0  [[{'aoVal': 'A', 'content': 'a = 0.1 rad/s\\\\te...            C   \n",
       "\n",
       "                     tag  \n",
       "0  Number Theory Modules  "
      ]
     },
     "execution_count": 8,
     "metadata": {},
     "output_type": "execute_result"
    }
   ],
   "source": [
    "df = pd.read_csv('questions.csv')\n",
    "df.head(1)"
   ]
  },
  {
   "cell_type": "code",
   "execution_count": 10,
   "id": "286aa1b5",
   "metadata": {},
   "outputs": [
    {
     "name": "stdout",
     "output_type": "stream",
     "text": [
      "[[1.         4.         0.16016302]\n",
      " [1.         4.         0.11088165]\n",
      " [1.         0.         0.20979867]\n",
      " ...\n",
      " [1.         1.         0.23691091]\n",
      " [1.         1.         0.20818561]\n",
      " [1.         1.         0.11956783]]\n",
      "(4999, 3)\n",
      "float64\n"
     ]
    }
   ],
   "source": [
    "# 1D IRT\n",
    "num_items = len(df)\n",
    "\n",
    "# 1D IRT parameters\n",
    "# discrimination = np.random.uniform(0.8, 1.5, num_items)   # a: discrimination\n",
    "discrimination = np.ones(num_items)\n",
    "difficulty = df['difficulty'].values                      # b: difficulty\n",
    "guessing = np.random.uniform(0.1, 0.25, num_items)        # c: guessing\n",
    "\n",
    "# Combine into item bank: shape (num_items, 3)\n",
    "item_bank = np.column_stack((discrimination, difficulty, guessing))\n",
    "print(item_bank)\n",
    "print(item_bank.shape)\n",
    "print(item_bank.dtype)\n",
    "\n",
    "# Create DataFrame and export\n",
    "item_bank_df = pd.DataFrame(item_bank, columns=['a', 'b', 'c'])\n",
    "item_bank_df.to_csv('item_bank.csv', index=False)\n"
   ]
  },
  {
   "cell_type": "code",
   "execution_count": null,
   "id": "dfa41dae",
   "metadata": {},
   "outputs": [],
   "source": [
    "## NEED THIS FOR MIRT 3PL\n",
    "# Example for d=3\n",
    "num_items = len(df)\n",
    "raw_difficulty = df[\"difficulty\"].values\n",
    "# Normalize difficulty to range ~[-3, 3]\n",
    "difficulty = (raw_difficulty - np.mean(raw_difficulty)) / np.std(raw_difficulty) * 1.5\n",
    "difficulty = np.clip(difficulty, -3, 3)  # optional safety clipping\n",
    "\n",
    "# Discrimination parameters for each dimension\n",
    "a1 = np.random.uniform(0.7, 1.7, num_items)\n",
    "a2 = np.random.uniform(0.7, 1.7, num_items)\n",
    "a3 = np.random.uniform(0.7, 1.7, num_items)\n",
    "\n",
    "# Guessing parameters\n",
    "c = np.random.uniform(0.1, 0.25, num_items)\n",
    "\n",
    "# Combine into item bank\n",
    "item_bank = np.column_stack((a1, a2, a3, difficulty, c))\n",
    "\n",
    "# Save to CSV\n",
    "item_bank_df = pd.DataFrame(item_bank, columns=[\"a1\", \"a2\", \"a3\", \"b\", \"c\"])\n",
    "item_bank_df.to_csv(\"item_bank.csv\", index=False)"
   ]
  },
  {
   "cell_type": "code",
   "execution_count": 27,
   "id": "26dfb202",
   "metadata": {},
   "outputs": [
    {
     "name": "stdout",
     "output_type": "stream",
     "text": [
      "[[0.51438129 1.3434944  0.94718111 4.         0.        ]\n",
      " [0.94501337 0.9986944  0.63249093 4.         0.        ]\n",
      " [1.30444554 1.05481908 1.18618423 0.         0.        ]\n",
      " ...\n",
      " [1.19785468 0.71659217 0.90025445 1.         0.        ]\n",
      " [0.63193667 1.00272298 1.13928471 1.         0.        ]\n",
      " [0.59471026 0.82045303 1.15326771 1.         0.        ]]\n"
     ]
    }
   ],
   "source": [
    "item_bank = pd.read_csv('item_bank.csv').values\n",
    "print(item_bank)\n"
   ]
  },
  {
   "cell_type": "code",
   "execution_count": 18,
   "id": "4c307d93",
   "metadata": {},
   "outputs": [
    {
     "name": "stdout",
     "output_type": "stream",
     "text": [
      "\n"
     ]
    }
   ],
   "source": [
    "initializer = FixedPointInitializer(-3)\n",
    "selector = MaxInfoSelector()\n",
    "estimator = NumericalSearchEstimator()\n",
    "stopper = MaxItemStopper(20)  # Stop after 20 items per examinee\n",
    "\n",
    "num_examinees = 1  # Or any number you want\n",
    "\n",
    "sim = Simulator(item_bank, num_examinees)\n",
    "sim.simulate(initializer, selector, estimator, stopper)\n"
   ]
  },
  {
   "cell_type": "code",
   "execution_count": 8,
   "id": "26e15445",
   "metadata": {},
   "outputs": [
    {
     "name": "stdout",
     "output_type": "stream",
     "text": [
      "Estimated abilities: [[-3, np.float64(-1.5), np.float64(1.3821228520880865e-07), np.float64(0.6931470658915463), np.float64(1.3926969588199478), np.float64(0.8262260747498168), np.float64(0.49999994677496673), np.float64(0.731274023201805), np.float64(1.0426006330594542), np.float64(0.7948754339968767), np.float64(1.033227000325175), np.float64(0.8344001954708293), np.float64(1.0272416213129696), np.float64(0.8612499833887143), np.float64(0.721510635184379), np.float64(0.6008263490635081), np.float64(0.49459410053967573), np.float64(0.5890631909540723), np.float64(0.7295743622608765), np.float64(0.6339802031949896), np.float64(0.7576863398188852)]]\n",
      "Administered items (first examinee): [np.int64(649), np.int64(659), np.int64(682), np.int64(2786), np.int64(4982), np.int64(4582), np.int64(677), np.int64(4583), np.int64(4983), np.int64(4585), np.int64(4985), np.int64(4586), np.int64(4986), np.int64(2812), np.int64(2814), np.int64(2815), np.int64(698), np.int64(2785), np.int64(4581), np.int64(2787)]\n"
     ]
    }
   ],
   "source": [
    "# Estimated abilities (theta) for each examinee\n",
    "theta = sim.estimations\n",
    "\n",
    "# List of administered item indices for each examinee\n",
    "administered_items = sim.administered_items\n",
    "\n",
    "print(\"Estimated abilities:\", theta)\n",
    "print(\"Administered items (first examinee):\", administered_items[0])\n"
   ]
  },
  {
   "cell_type": "code",
   "execution_count": null,
   "id": "0a8504cf",
   "metadata": {},
   "outputs": [],
   "source": [
    "# Assume you have:\n",
    "# - item_bank: your item parameter matrix\n",
    "# - df: your DataFrame of questions\n",
    "# - recommended_indices: list of indices already administered/recommended\n",
    "# - theta: latest estimated theta (e.g., theta_history[-1])\n",
    "# - selector: your MaxInfoSelector instance\n",
    "\n",
    "k = 5  # Number of next recommendations you want\n",
    "admin_items = set(recommended_indices)  # Items already administered\n",
    "next_recommended_indices = []\n",
    "\n",
    "for _ in range(k):\n",
    "    next_item = selector.select(\n",
    "        items=item_bank,\n",
    "        administered_items=list(admin_items),\n",
    "        est_theta=theta\n",
    "    )\n",
    "    if next_item is None:\n",
    "        break  # No more items to recommend\n",
    "    next_recommended_indices.append(next_item)\n",
    "    admin_items.add(next_item)\n",
    "\n",
    "print(f\"Next {k} recommended item indices:\", next_recommended_indices)\n",
    "\n",
    "# To get the actual questions:\n",
    "next_recommended_questions_df = df.iloc[next_recommended_indices]\n",
    "next_recommended_questions_df.head()\n"
   ]
  },
  {
   "cell_type": "code",
   "execution_count": 9,
   "id": "5c1fe29d",
   "metadata": {},
   "outputs": [
    {
     "ename": "NameError",
     "evalue": "name 'recommended_indices' is not defined",
     "output_type": "error",
     "traceback": [
      "\u001b[31m---------------------------------------------------------------------------\u001b[39m",
      "\u001b[31mNameError\u001b[39m                                 Traceback (most recent call last)",
      "\u001b[36mCell\u001b[39m\u001b[36m \u001b[39m\u001b[32mIn[9]\u001b[39m\u001b[32m, line 15\u001b[39m\n\u001b[32m     11\u001b[39m responses = []\n\u001b[32m     13\u001b[39m estimator = NumericalSearchEstimator()\n\u001b[32m---> \u001b[39m\u001b[32m15\u001b[39m \u001b[38;5;28;01mfor\u001b[39;00m i, item_idx \u001b[38;5;129;01min\u001b[39;00m \u001b[38;5;28menumerate\u001b[39m(recommended_indices):\n\u001b[32m     16\u001b[39m     administered_items.append(i)  \u001b[38;5;66;03m# index within the subset\u001b[39;00m\n\u001b[32m     17\u001b[39m     responses.append(\u001b[32m1\u001b[39m)           \u001b[38;5;66;03m# correct response\u001b[39;00m\n",
      "\u001b[31mNameError\u001b[39m: name 'recommended_indices' is not defined"
     ]
    }
   ],
   "source": [
    "from catsim.estimation import NumericalSearchEstimator\n",
    "\n",
    "# Initial theta (e.g., for a newbie)\n",
    "# theta = -3.0\n",
    "\n",
    "# Store thetas after each response for reference\n",
    "theta_history = [theta]\n",
    "\n",
    "# For each recommended item, simulate a correct response and update theta\n",
    "administered_items = []\n",
    "responses = []\n",
    "\n",
    "estimator = NumericalSearchEstimator()\n",
    "\n",
    "for i, item_idx in enumerate(recommended_indices):\n",
    "    administered_items.append(i)  # index within the subset\n",
    "    responses.append(1)           # correct response\n",
    "    \n",
    "    # Get parameters for all administered so far\n",
    "    items_so_far = item_bank[recommended_indices[:i+1]]\n",
    "    \n",
    "    # Estimate theta using responses so far\n",
    "    theta = estimator.estimate(\n",
    "        items=items_so_far,\n",
    "        administered_items=list(range(i+1)),\n",
    "        response_vector=responses,\n",
    "        est_theta=theta  # use previous theta as starting point\n",
    "    )\n",
    "    theta_history.append(theta)\n",
    "    print(f\"Theta after item {i+1} (all correct so far): {theta}\")\n",
    "\n",
    "print(\"Theta history:\", theta_history)\n"
   ]
  },
  {
   "cell_type": "code",
   "execution_count": null,
   "id": "7072ee0b",
   "metadata": {},
   "outputs": [
    {
     "name": "stdout",
     "output_type": "stream",
     "text": [
      "Next 5 recommended item indices: [np.int64(649), np.int64(659), np.int64(747), np.int64(746), np.int64(768)]\n"
     ]
    },
    {
     "name": "stderr",
     "output_type": "stream",
     "text": [
      "/home/thearp/Desktop/Adaptive Learning/.conda/lib/python3.11/site-packages/catsim/selection.py:72: UserWarning: This selector needs an item matrix with at least 5 columns, with the last one representing item exposure rate. Since this column is absent, it will presume all items have exposure rates = 0\n",
      "  warn(\n"
     ]
    },
    {
     "data": {
      "text/html": [
       "<div>\n",
       "<style scoped>\n",
       "    .dataframe tbody tr th:only-of-type {\n",
       "        vertical-align: middle;\n",
       "    }\n",
       "\n",
       "    .dataframe tbody tr th {\n",
       "        vertical-align: top;\n",
       "    }\n",
       "\n",
       "    .dataframe thead th {\n",
       "        text-align: right;\n",
       "    }\n",
       "</style>\n",
       "<table border=\"1\" class=\"dataframe\">\n",
       "  <thead>\n",
       "    <tr style=\"text-align: right;\">\n",
       "      <th></th>\n",
       "      <th>qid</th>\n",
       "      <th>difficulty</th>\n",
       "      <th>problem</th>\n",
       "      <th>answer_option_list</th>\n",
       "      <th>answer_value</th>\n",
       "      <th>tag</th>\n",
       "    </tr>\n",
       "  </thead>\n",
       "  <tbody>\n",
       "    <tr>\n",
       "      <th>649</th>\n",
       "      <td>2069</td>\n",
       "      <td>0</td>\n",
       "      <td>What is the missing sign in the box?  $8\\squar...</td>\n",
       "      <td>[[{'aoVal': 'A', 'content': '$$+$$ '}], [{'aoV...</td>\n",
       "      <td>C</td>\n",
       "      <td>Combinations</td>\n",
       "    </tr>\n",
       "    <tr>\n",
       "      <th>659</th>\n",
       "      <td>2136</td>\n",
       "      <td>0</td>\n",
       "      <td>Which of the following expressions is easier t...</td>\n",
       "      <td>[[{'aoVal': 'A', 'content': '$$15+7-5$$ '}], [...</td>\n",
       "      <td>B</td>\n",
       "      <td>Counting Modules</td>\n",
       "    </tr>\n",
       "    <tr>\n",
       "      <th>747</th>\n",
       "      <td>2523</td>\n",
       "      <td>0</td>\n",
       "      <td>There are $$4$$ different colours of bags avai...</td>\n",
       "      <td>[[{'aoVal': 'A', 'content': '$$3$$ '}], [{'aoV...</td>\n",
       "      <td>B</td>\n",
       "      <td>Enumeration</td>\n",
       "    </tr>\n",
       "    <tr>\n",
       "      <th>746</th>\n",
       "      <td>2518</td>\n",
       "      <td>0</td>\n",
       "      <td>Sort the following names: Tom, Bob, Alice, Liz...</td>\n",
       "      <td>[[{'aoVal': 'A', 'content': 'Bob, Tom, Alice, ...</td>\n",
       "      <td>D</td>\n",
       "      <td>Combinations</td>\n",
       "    </tr>\n",
       "    <tr>\n",
       "      <th>768</th>\n",
       "      <td>2609</td>\n",
       "      <td>0</td>\n",
       "      <td>$6$ can be made in $2$ different ways: $1\\time...</td>\n",
       "      <td>[[{'aoVal': 'A', 'content': '$$2$$ '}], [{'aoV...</td>\n",
       "      <td>C</td>\n",
       "      <td>Calculation Modules</td>\n",
       "    </tr>\n",
       "  </tbody>\n",
       "</table>\n",
       "</div>"
      ],
      "text/plain": [
       "      qid  difficulty                                            problem  \\\n",
       "649  2069           0  What is the missing sign in the box?  $8\\squar...   \n",
       "659  2136           0  Which of the following expressions is easier t...   \n",
       "747  2523           0  There are $$4$$ different colours of bags avai...   \n",
       "746  2518           0  Sort the following names: Tom, Bob, Alice, Liz...   \n",
       "768  2609           0  $6$ can be made in $2$ different ways: $1\\time...   \n",
       "\n",
       "                                    answer_option_list answer_value  \\\n",
       "649  [[{'aoVal': 'A', 'content': '$$+$$ '}], [{'aoV...            C   \n",
       "659  [[{'aoVal': 'A', 'content': '$$15+7-5$$ '}], [...            B   \n",
       "747  [[{'aoVal': 'A', 'content': '$$3$$ '}], [{'aoV...            B   \n",
       "746  [[{'aoVal': 'A', 'content': 'Bob, Tom, Alice, ...            D   \n",
       "768  [[{'aoVal': 'A', 'content': '$$2$$ '}], [{'aoV...            C   \n",
       "\n",
       "                     tag  \n",
       "649         Combinations  \n",
       "659     Counting Modules  \n",
       "747          Enumeration  \n",
       "746         Combinations  \n",
       "768  Calculation Modules  "
      ]
     },
     "execution_count": 59,
     "metadata": {},
     "output_type": "execute_result"
    }
   ],
   "source": [
    "# Assume you have:\n",
    "# - item_bank: your item parameter matrix\n",
    "# - df: your DataFrame of questions\n",
    "# - recommended_indices: list of indices already administered/recommended\n",
    "# - theta: latest estimated theta (e.g., theta_history[-1])\n",
    "# - selector: your MaxInfoSelector instance\n",
    "\n",
    "k = 5  # Number of next recommendations you want\n",
    "admin_items = set(recommended_indices)  # Items already administered\n",
    "next_recommended_indices = []\n",
    "\n",
    "for _ in range(k):\n",
    "    next_item = selector.select(\n",
    "        items=item_bank,\n",
    "        administered_items=list(admin_items),\n",
    "        est_theta=theta\n",
    "    )\n",
    "    if next_item is None:\n",
    "        break  # No more items to recommend\n",
    "    next_recommended_indices.append(next_item)\n",
    "    admin_items.add(next_item)\n",
    "\n",
    "print(f\"Next {k} recommended item indices:\", next_recommended_indices)\n",
    "\n",
    "# To get the actual questions:\n",
    "next_recommended_questions_df = df.iloc[next_recommended_indices]\n",
    "next_recommended_questions_df.head()\n"
   ]
  }
 ],
 "metadata": {
  "kernelspec": {
   "display_name": "Python 3",
   "language": "python",
   "name": "python3"
  },
  "language_info": {
   "codemirror_mode": {
    "name": "ipython",
    "version": 3
   },
   "file_extension": ".py",
   "mimetype": "text/x-python",
   "name": "python",
   "nbconvert_exporter": "python",
   "pygments_lexer": "ipython3",
   "version": "3.11.13"
  }
 },
 "nbformat": 4,
 "nbformat_minor": 5
}
